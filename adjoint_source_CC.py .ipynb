{
 "metadata": {
  "name": "",
  "signature": "sha256:d491e1dfbeb8e96e2f5d50160555047b79e9e366c7a6be732106821abff9d2d6"
 },
 "nbformat": 3,
 "nbformat_minor": 0,
 "worksheets": [
  {
   "cells": [
    {
     "cell_type": "code",
     "collapsed": false,
     "input": [
      "import pyadjoint\n",
      "import obspy\n",
      "obs, syn = pyadjoint.utils.get_example_data()\n",
      "obs = obs.select(component=\"Z\")[0]\n",
      "syn = syn.select(component=\"Z\")[0]\n",
      "\n",
      "print obs\n",
      "print syn\n",
      "\n",
      "window = [[2,73]]\n",
      "\n",
      "config = pyadjoint.ConfigCrossCorrelation(        min_period=10.0,\n",
      "                                                  max_period=20.0,\n",
      "                                                  taper_type='hann',\n",
      "                                                  taper_percentage=0.2,\n",
      "                                                  measure_type='dt',\n",
      "                                                  dt_sigma_min=1.0,\n",
      "                                                  dlna_sigma_min=0.5)\n",
      "\n",
      "\n",
      "adj_src = pyadjoint.calculate_adjoint_source(\n",
      "    adj_src_type=\"cc_traveltime_misfit\",\n",
      "    observed=obs, \n",
      "    synthetic=syn,\n",
      "    config=config,\n",
      "    window=window,\n",
      "    adjoint_src=True,\n",
      "    plot=True)\n",
      "\n",
      "\n"
     ],
     "language": "python",
     "metadata": {},
     "outputs": [
      {
       "output_type": "stream",
       "stream": "stdout",
       "text": [
        "OY.DBO.LC.LXZ | 2014-11-15T02:31:50.259900Z - 2014-11-15T02:33:05.259900Z | 50.0 Hz, 3751 samples\n",
        "SY.DBO.LC.LXZ | 2014-11-15T02:31:50.259900Z - 2014-11-15T02:33:05.259900Z | 50.0 Hz, 3751 samples\n",
        "here is the adjoint source"
       ]
      },
      {
       "output_type": "stream",
       "stream": "stdout",
       "text": [
        " [ 0.  0.  0. ...,  0.  0.  0.]\n"
       ]
      }
     ],
     "prompt_number": 3
    },
    {
     "cell_type": "code",
     "collapsed": false,
     "input": [
      "print(adj_src)"
     ],
     "language": "python",
     "metadata": {},
     "outputs": [
      {
       "output_type": "stream",
       "stream": "stdout",
       "text": [
        "Multitaper Misfit Adjoint Source for component LXZ at station OY.DBO\n",
        "    Misfit: 0.6359\n",
        "    Adjoint source available with 3751 samples\n"
       ]
      }
     ],
     "prompt_number": 2
    },
    {
     "cell_type": "code",
     "collapsed": false,
     "input": [],
     "language": "python",
     "metadata": {},
     "outputs": [],
     "prompt_number": 44
    },
    {
     "cell_type": "code",
     "collapsed": false,
     "input": [],
     "language": "python",
     "metadata": {},
     "outputs": []
    }
   ],
   "metadata": {}
  }
 ]
}