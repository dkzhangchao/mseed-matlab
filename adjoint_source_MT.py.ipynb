{
 "metadata": {
  "name": "",
  "signature": "sha256:8508b0fdc1a7784b29e51098f629ed72db4156a970c802e260cc73c73c706b07"
 },
 "nbformat": 3,
 "nbformat_minor": 0,
 "worksheets": [
  {
   "cells": [
    {
     "cell_type": "code",
     "collapsed": false,
     "input": [
      "import pyadjoint\n",
      "import obspy\n",
      "obs, syn = pyadjoint.utils.get_example_data()\n",
      "obs = obs.select(component=\"Z\")[0]\n",
      "syn = syn.select(component=\"Z\")[0]\n",
      "\n",
      "print obs\n",
      "print syn\n",
      "\n",
      "window = [[2,73]]\n",
      "\n",
      "config = pyadjoint.ConfigMultiTaper(        min_period=10.0,\n",
      "                                            max_period=20.0,\n",
      "                                            lnpt=13,\n",
      "                                            transfunc_waterlevel=1.0E-10,\n",
      "                                            water_threshold=0.2,\n",
      "                                            ipower_costaper=10,\n",
      "                                            min_cycle_in_window=3,\n",
      "                                            taper_percentage=0.2,\n",
      "                                            taper_type='hann',\n",
      "                                            mt_nw=3,\n",
      "                                            num_taper=5,\n",
      "                                            dt_fac=2.0,\n",
      "                                            phase_step=3,\n",
      "                                            err_fac=2.5,\n",
      "                                            dt_max_scale=3.5,\n",
      "                                            measure_type='dt',\n",
      "                                            dt_sigma_min=1.0,\n",
      "                                            dlna_sigma_min=0.5,\n",
      "                                            use_cc_error=True,\n",
      "                                            use_mt_error=False)\n",
      "\n",
      "\n",
      "adj_src = pyadjoint.calculate_adjoint_source(\n",
      "    adj_src_type=\"multitaper_misfit\",\n",
      "    observed=obs, \n",
      "    synthetic=syn,\n",
      "    config=config,\n",
      "    window=window,\n",
      "    adjoint_src=True,\n",
      "    plot=True)\n",
      "\n",
      "\n"
     ],
     "language": "python",
     "metadata": {},
     "outputs": [
      {
       "output_type": "stream",
       "stream": "stdout",
       "text": [
        "OY.DBO.LC.LXZ | 2014-11-15T02:31:50.259900Z - 2014-11-15T02:33:05.259900Z | 50.0 Hz, 3751 samples\n",
        "SY.DBO.LC.LXZ | 2014-11-15T02:31:50.259900Z - 2014-11-15T02:33:05.259900Z | 50.0 Hz, 3751 samples\n",
        "max_period= 20.0 min_period= 10.0\n",
        "misfit for multi taper"
       ]
      },
      {
       "output_type": "stream",
       "stream": "stdout",
       "text": [
        " 0.646598999449\n",
        "here is the adjoint source"
       ]
      }
     ]
    },
    {
     "cell_type": "code",
     "collapsed": false,
     "input": [
      "print(adj_src)"
     ],
     "language": "python",
     "metadata": {},
     "outputs": [
      {
       "output_type": "stream",
       "stream": "stdout",
       "text": [
        "Multitaper Misfit Adjoint Source for component LXZ at station OY.DBO\n",
        "    Misfit: 0.6359\n",
        "    Adjoint source available with 3751 samples\n"
       ]
      }
     ],
     "prompt_number": 2
    },
    {
     "cell_type": "code",
     "collapsed": false,
     "input": [],
     "language": "python",
     "metadata": {},
     "outputs": [],
     "prompt_number": 44
    },
    {
     "cell_type": "code",
     "collapsed": false,
     "input": [],
     "language": "python",
     "metadata": {},
     "outputs": []
    }
   ],
   "metadata": {}
  }
 ]
}